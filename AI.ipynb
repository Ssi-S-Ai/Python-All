{
 "cells": [
  {
   "cell_type": "code",
   "execution_count": 23,
   "metadata": {
    "collapsed": true,
    "pycharm": {
     "is_executing": false
    }
   },
   "outputs": [],
   "source": [
    "#支持向量机SVM()，是一种二分类模型，其基本模型定义为特征空间上的间隔最大的线性分类器，其学习策略便是间隔最大化，最终可转化为一个凸二次规划问题的求解\n",
    "#支持向量机建构一个或多个高维（甚至是无限多维）的超平面来分类数据点，这个超平面即为分类边界。 直观来说，好的分类边界要距离最近的训练数据点越远越好，因为这样可以减低分类器的泛化误差。\n",
    "#在支持向量机中，分类边界与最近的训练数据点之间的距离称为间隔（margin）； 支持向量机的目标即为找出间隔最大的超平面来作为分类边界\n",
    "# 优点：1、可以解决小样本情况下的机器学习问题。2、可以提高泛化性能。3、可以解决高维问题。4、可以解决非线性问题。5、可以避免神经网络结构选择和局部极小点问题。\n",
    "# 缺点：1、对缺失数据敏感。2、对非线性问题没有通用解决方案，必须谨慎选择Kernel function来处理。\n",
    "# libSVMLIBSVM是台湾大学林智仁(Lin Chih-Jen)教授等开发设计的一个简单、易于使用和快速有效的SVM模式识别与回归的软件包，\n",
    "# 他不但提供了编译好的可在Windows系列系统的执行文件，还提供了源代码，方便改进、修改以及在其它操作系统上应用；该软件对SVM所涉及的参数调节相对比较少\n",
    "# ，提供了很多的默认参数，利用这些默认参数可以解决很多问题；并提供了交互检验(Cross Validation)的功能。\n",
    "# LIBSVM拥有C、Java、Matlab、C#、Ruby、Python、R、Perl、Common LISP、Labview、php等数十种语言版本。最常使用的是C、Matlab、Java和命令行(c语言编译的工具)的版本。\n",
    "\n",
    "\n",
    "\n"
   ]
  },
  {
   "cell_type": "code",
   "execution_count": 24,
   "outputs": [
    {
     "name": "stdout",
     "text": [
      "Accuracy = 84.2857% (59/70) (classification)\n"
     ],
     "output_type": "stream"
    }
   ],
   "source": [
    "import os\n",
    "os.chdir('E:\\All-File\\Python-All\\libsvm-3.24\\python')\n",
    "from svmutil import *\n",
    "y, x = svm_read_problem('../heart_scale')#读取自带数据\n",
    "m = svm_train(y[:200], x[:200], '-c 4')\n",
    "p_label, p_acc, p_val = svm_predict(y[200:], x[200:], m)\n",
    "\n"
   ],
   "metadata": {
    "collapsed": false,
    "pycharm": {
     "name": "#%%\n",
     "is_executing": false
    }
   }
  }
 ],
 "metadata": {
  "language_info": {
   "codemirror_mode": {
    "name": "ipython",
    "version": 2
   },
   "file_extension": ".py",
   "mimetype": "text/x-python",
   "name": "python",
   "nbconvert_exporter": "python",
   "pygments_lexer": "ipython2",
   "version": "2.7.6"
  },
  "kernelspec": {
   "name": "python3",
   "language": "python",
   "display_name": "Python 3"
  },
  "pycharm": {
   "stem_cell": {
    "cell_type": "raw",
    "source": [],
    "metadata": {
     "collapsed": false
    }
   }
  }
 },
 "nbformat": 4,
 "nbformat_minor": 0
}