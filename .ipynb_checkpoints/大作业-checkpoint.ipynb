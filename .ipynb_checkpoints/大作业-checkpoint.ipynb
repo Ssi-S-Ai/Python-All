{
 "cells": [
  {
   "cell_type": "code",
   "execution_count": null,
   "metadata": {
    "collapsed": true,
    "pycharm": {
     "is_executing": true
    }
   },
   "outputs": [],
   "source": [
    "import pandas as pd\n",
    "from pandas_datareader import data,wb\n",
    "import matplotlib.pyplot as plt\n",
    "\n",
    "%matplotlib inline\n",
    "pd.set_option('display.max_colwidth',200)"
   ]
  },
  {
   "cell_type": "code",
   "execution_count": null,
   "metadata": {
    "pycharm": {
     "is_executing": true,
     "name": "#%%\n"
    }
   },
   "outputs": [],
   "source": [
    "import pandas_datareader as pdr\n",
    "\n",
    "start_date = pd.to_datetime('2016-12-01')\n",
    "\n",
    "stop_date = pd.to_datetime('2018-12-01')\n",
    "\n",
    "spy = pdr.data.get_data_yahoo('SPY',start_date,stop_date)\n",
    "spy"
   ]
  },
  {
   "cell_type": "code",
   "execution_count": null,
   "metadata": {
    "pycharm": {
     "is_executing": true,
     "name": "#%%\n"
    }
   },
   "outputs": [],
   "source": [
    "spy_c = spy['Close']\n",
    "\n",
    "fig,ax = plt.subplots(figsize = (15,10))\n",
    "spy_c.plot(color = 'r')\n",
    "plt.title(\"SPY\",fontsize = 20);"
   ]
  },
  {
   "cell_type": "code",
   "execution_count": null,
   "metadata": {
    "pycharm": {
     "is_executing": true,
     "name": "#%%\n"
    }
   },
   "outputs": [],
   "source": [
    "first_open = spy['Open'].iloc[0]\n",
    "first_open\n",
    "\n"
   ]
  },
  {
   "cell_type": "code",
   "execution_count": null,
   "metadata": {
    "pycharm": {
     "is_executing": true,
     "name": "#%%\n"
    }
   },
   "outputs": [],
   "source": [
    "last_close = spy['Close'].iloc[-1]\n",
    "last_close"
   ]
  },
  {
   "cell_type": "code",
   "execution_count": null,
   "metadata": {
    "pycharm": {
     "is_executing": true,
     "name": "#%%\n"
    }
   },
   "outputs": [],
   "source": [
    "last_close - first_open"
   ]
  },
  {
   "cell_type": "code",
   "execution_count": null,
   "metadata": {
    "pycharm": {
     "is_executing": true,
     "name": "#%%\n"
    }
   },
   "outputs": [],
   "source": [
    "spy['Daily Change'] = pd.Series(spy['Close']-spy['Open'])\n",
    "spy['Daily Change']"
   ]
  },
  {
   "cell_type": "code",
   "execution_count": null,
   "metadata": {
    "pycharm": {
     "is_executing": true,
     "name": "#%%\n"
    }
   },
   "outputs": [],
   "source": [
    "spy['Daily Change'].sum()\n",
    "\n"
   ]
  },
  {
   "cell_type": "code",
   "execution_count": null,
   "metadata": {
    "pycharm": {
     "is_executing": true,
     "name": "#%%\n"
    }
   },
   "outputs": [],
   "source": [
    "import numpy as np\n",
    "np.std(spy['Daily Change'])\n"
   ]
  },
  {
   "cell_type": "code",
   "execution_count": null,
   "metadata": {
    "pycharm": {
     "is_executing": true,
     "name": "#%%\n"
    }
   },
   "outputs": [],
   "source": [
    "spy['Overnight Change'] = pd.Series(spy['Open'] - spy['Close'].shift(1))\n",
    "np.std(spy['Overnight Change'])"
   ]
  },
  {
   "cell_type": "code",
   "execution_count": null,
   "metadata": {
    "pycharm": {
     "is_executing": true,
     "name": "#%%\n"
    }
   },
   "outputs": [],
   "source": [
    "spy[spy['Daily Change']<0]['Daily Change'].mean()"
   ]
  },
  {
   "cell_type": "code",
   "execution_count": null,
   "metadata": {
    "pycharm": {
     "is_executing": true,
     "name": "#%%\n"
    }
   },
   "outputs": [],
   "source": [
    "spy[spy['Overnight Change']<0]['Overnight Change'].mean()"
   ]
  },
  {
   "cell_type": "code",
   "execution_count": null,
   "metadata": {
    "pycharm": {
     "is_executing": true,
     "name": "#%%\n"
    }
   },
   "outputs": [],
   "source": [
    "daily_rtn = ((spy['Close'] - spy['Close'].shift(1))/spy['Close'].shift(1))*100\n",
    "id_rtn = ((spy['Close'] - spy['Open'])/spy['Open'])*100\t\n",
    "on_rtn = ((spy['Open']\t- spy['Close'].shift(1))/spy['Close'].shift(1))*100\n",
    "daily_rtn"
   ]
  },
  {
   "cell_type": "code",
   "execution_count": null,
   "metadata": {
    "pycharm": {
     "is_executing": true,
     "name": "#%%\n"
    }
   },
   "outputs": [],
   "source": [
    "def\tget_stats(s,n=252):\t\n",
    "\ts = s.dropna()\t\n",
    "\twins = len(s[s>0])\t\n",
    "\tlosses = len(s[s<0])\t\n",
    "\tevens = len(s[s==0])\t\n",
    "\tmean_w = round(s[s>0].mean(),\t3)\t\n",
    "\tmean_l = round(s[s<0].mean(),\t3)\t\n",
    "\twin_r = round(wins/losses,\t3)\t\n",
    "\tmean_trd = round(s.mean(),\t3)\t\n",
    "\tsd = round(np.std(s),\t3)\t\n",
    "\tmax_l =\tround(s.min(),\t3)\t\n",
    "\tmax_w =\tround(s.max(),\t3)\t\n",
    "\tsharpe_r = round((s.mean()/np.std(s))*np.sqrt(n),\t4)\t\n",
    "\tcnt\t= len(s)\t\n",
    "\tprint('Trades:', cnt,\t\n",
    "\t\t'\\nWins:',wins,\n",
    "\t\t'\\nLosses:',losses,\t\n",
    "\t\t'\\nBreakeven:',evens,\t\n",
    "\t\t'\\nWin/Loss Ratio',win_r,\t\n",
    "\t\t'\\nMean Win:',mean_w,\t\n",
    "\t\t'\\nMean Loss:',mean_l,\n",
    "\t\t'\\nMean',mean_trd,\n",
    "\t\t'\\nStd Dev:',sd,\t\n",
    "\t\t'\\nMax Loss:',max_l,\t\n",
    "\t\t'\\nMax Win:',max_w,\n",
    "\t\t'\\nSharpe Ratio:',sharpe_r)\n",
    "get_stats(daily_rtn)"
   ]
  },
  {
   "cell_type": "code",
   "execution_count": null,
   "metadata": {
    "pycharm": {
     "is_executing": true,
     "name": "#%%\n"
    }
   },
   "outputs": [],
   "source": [
    "get_stats(id_rtn)"
   ]
  },
  {
   "cell_type": "code",
   "execution_count": null,
   "metadata": {
    "pycharm": {
     "is_executing": true,
     "name": "#%%\n"
    }
   },
   "outputs": [],
   "source": [
    "get_stats(on_rtn)"
   ]
  },
  {
   "cell_type": "code",
   "execution_count": null,
   "metadata": {
    "pycharm": {
     "is_executing": true,
     "name": "#%%\n"
    }
   },
   "outputs": [],
   "source": [
    "start_date = pd.to_datetime('2016-12-01')\n",
    "stop_date = pd.to_datetime('2018-12-01')\n",
    "sp = pdr.data.get_data_yahoo('SPY',start_date,\tstop_date)\n",
    "sp"
   ]
  },
  {
   "cell_type": "code",
   "execution_count": null,
   "metadata": {
    "pycharm": {
     "is_executing": true,
     "name": "#%%\n"
    }
   },
   "outputs": [],
   "source": [
    "fig,ax = plt.subplots(figsize=(15,10))\t\n",
    "sp['Close'].plot(color='r')\t\n",
    "plt.title(\"SPY\",fontsize=20)"
   ]
  },
  {
   "cell_type": "code",
   "execution_count": null,
   "metadata": {
    "pycharm": {
     "is_executing": true,
     "name": "#%%\n"
    }
   },
   "outputs": [],
   "source": [
    "long_day_rtn\t=((sp['Close'] - sp['Close'].shift(1))/sp['Close'].shift(1))*100\t\n",
    "long_id_rtn\t=\t((sp['Close'] - sp['Open'])/sp['Open'])*100\t\n",
    "long_on_rtn\t=\t((sp['Open'] - sp['Close'].shift(1))/sp['Close'].shift(1))*100"
   ]
  },
  {
   "cell_type": "code",
   "execution_count": null,
   "metadata": {
    "pycharm": {
     "is_executing": true,
     "name": "#%%\n"
    }
   },
   "outputs": [],
   "source": [
    "(sp['Close'] - sp['Close'].shift(1)).sum()"
   ]
  },
  {
   "cell_type": "code",
   "execution_count": null,
   "metadata": {
    "pycharm": {
     "is_executing": true,
     "name": "#%%\n"
    }
   },
   "outputs": [],
   "source": [
    "(sp['Close'] - sp['Open']).sum()"
   ]
  },
  {
   "cell_type": "code",
   "execution_count": null,
   "metadata": {
    "pycharm": {
     "is_executing": true,
     "name": "#%%\n"
    }
   },
   "outputs": [],
   "source": [
    "(sp['Open']\t- sp['Close'].shift(1)).sum()"
   ]
  },
  {
   "cell_type": "code",
   "execution_count": null,
   "metadata": {
    "pycharm": {
     "is_executing": true,
     "name": "#%%\n"
    }
   },
   "outputs": [],
   "source": [
    "get_stats(long_day_rtn)"
   ]
  },
  {
   "cell_type": "code",
   "execution_count": null,
   "metadata": {
    "pycharm": {
     "is_executing": true,
     "name": "#%%\n"
    }
   },
   "outputs": [],
   "source": [
    "get_stats(long_id_rtn)"
   ]
  },
  {
   "cell_type": "code",
   "execution_count": null,
   "metadata": {
    "pycharm": {
     "is_executing": true,
     "name": "#%%\n"
    }
   },
   "outputs": [],
   "source": [
    "get_stats(long_on_rtn)"
   ]
  },
  {
   "cell_type": "code",
   "execution_count": null,
   "metadata": {
    "pycharm": {
     "is_executing": true,
     "name": "#%%\n"
    }
   },
   "outputs": [],
   "source": [
    "for i in range(1, 21, 1):\n",
    "    sp.loc[:,'Close Minus ' + str(i)] = sp['Close'].shift(i)\n",
    "sp20 = sp[[x for x in sp.columns if 'Close Minus' in x or x == 'Close']].iloc[20:,]\n",
    "\n",
    "sp20"
   ]
  },
  {
   "cell_type": "code",
   "execution_count": null,
   "metadata": {
    "pycharm": {
     "is_executing": true,
     "name": "#%%\n"
    }
   },
   "outputs": [],
   "source": [
    "sp20 = sp20.iloc[:,::-1]\n",
    "sp20"
   ]
  },
  {
   "cell_type": "code",
   "execution_count": null,
   "metadata": {
    "pycharm": {
     "is_executing": true,
     "name": "#%%\n"
    }
   },
   "outputs": [],
   "source": [
    "from sklearn.svm import SVR\n",
    "clf = SVR(kernel='linear')\n",
    "clf"
   ]
  },
  {
   "cell_type": "code",
   "execution_count": null,
   "metadata": {
    "pycharm": {
     "is_executing": true,
     "name": "#%%\n"
    }
   },
   "outputs": [],
   "source": [
    "X_train = sp20[:-200]\n",
    "y_train = sp20['Close'].shift(-1)[:-200]"
   ]
  },
  {
   "cell_type": "code",
   "execution_count": null,
   "metadata": {
    "pycharm": {
     "is_executing": true,
     "name": "#%%\n"
    }
   },
   "outputs": [],
   "source": [
    "X_test = sp20[-20:]\n",
    "y_test = sp20['Close'].shift(-1)[-200:]\n",
    "y_test"
   ]
  },
  {
   "cell_type": "code",
   "execution_count": null,
   "metadata": {
    "pycharm": {
     "is_executing": true,
     "name": "#%%\n"
    }
   },
   "outputs": [],
   "source": [
    "model = clf.fit(X_train, y_train)\n",
    "preds = model.predict(X_test)\n",
    "preds"
   ]
  },
  {
   "cell_type": "code",
   "execution_count": null,
   "metadata": {
    "pycharm": {
     "is_executing": true,
     "name": "#%%\n"
    }
   },
   "outputs": [],
   "source": [
    "# tf = pd.DataFrame(list(zip(y_test, preds)), columns=['Next Day Close', 'Predicted Next Close']）\n",
    "tf = pd.DataFrame(list(zip(y_test, preds)), columns=['Next Day Close', 'Predicted Next Close'],dtype=None,copy=False)\n",
    "tf"
   ]
  },
  {
   "cell_type": "code",
   "execution_count": null,
   "metadata": {
    "pycharm": {
     "is_executing": true,
     "name": "#%%\n"
    }
   },
   "outputs": [],
   "source": [
    "cdc = sp[['Close']].iloc[-1000:]\n",
    "ndo = sp[['Open']].iloc[-1000:].shift(-1) "
   ]
  },
  {
   "cell_type": "code",
   "execution_count": null,
   "metadata": {
    "pycharm": {
     "is_executing": true,
     "name": "#%%\n"
    }
   },
   "outputs": [],
   "source": [
    "cdc"
   ]
  },
  {
   "cell_type": "code",
   "execution_count": null,
   "metadata": {
    "pycharm": {
     "is_executing": true,
     "name": "#%%\n"
    }
   },
   "outputs": [],
   "source": [
    "ndo"
   ]
  },
  {
   "cell_type": "code",
   "execution_count": null,
   "metadata": {
    "pycharm": {
     "is_executing": true,
     "name": "#%%\n"
    }
   },
   "outputs": [],
   "source": [
    "tf1 = pd.merge(tf, cdc,left_index=True, right_index=True)\n",
    "tf1"
   ]
  },
  {
   "cell_type": "code",
   "execution_count": null,
   "metadata": {
    "pycharm": {
     "is_executing": true,
     "name": "#%%\n"
    }
   },
   "outputs": [],
   "source": [
    "tf2 = pd.merge(tf1, ndo,left_index=True, right_index=True) \n",
    "\n",
    "tf2"
   ]
  },
  {
   "cell_type": "code",
   "execution_count": null,
   "metadata": {
    "pycharm": {
     "is_executing": true,
     "name": "#%%\n"
    }
   },
   "outputs": [],
   "source": [
    "tf2.columns = ['Next Day Close','Predicted Next Close','Current Day Close','Next Day Open'] \n",
    "tf2\n"
   ]
  },
  {
   "cell_type": "code",
   "execution_count": null,
   "metadata": {
    "pycharm": {
     "is_executing": true,
     "name": "#%%\n"
    }
   },
   "outputs": [],
   "source": []
  },
  {
   "cell_type": "code",
   "execution_count": null,
   "metadata": {
    "pycharm": {
     "is_executing": true,
     "name": "#%%\n"
    }
   },
   "outputs": [],
   "source": [
    "def get_signal(r):\n",
    "    if r['Predicted Next Close'] > r['Next Day Open']:\n",
    "        return 1\n",
    "    else:\n",
    "        return 0\n",
    "def get_ret(r):\n",
    "    if r['Signal'] == 1:\n",
    "        return ((r['Next Day Close']-r['Next Day Open'])/r['Next Day Open'])*100\n",
    "    else:\n",
    "        return 0\n",
    "\n",
    "\n",
    "tf2 = tf2.assign(Signal=tf2.apply(get_signal,axis=1))\t\n",
    "tf2 = tf2.assign(PnL=tf2.apply(get_ret,axis=1))\n",
    "\n",
    "tf2"
   ]
  },
  {
   "cell_type": "code",
   "execution_count": null,
   "metadata": {
    "pycharm": {
     "is_executing": true,
     "name": "#%%\n"
    }
   },
   "outputs": [],
   "source": [
    "(tf2[tf2['Signal']==1]['Next Day Close'] - tf2[tf2['Signal']==1]['Next Day Open']).sum()"
   ]
  },
  {
   "cell_type": "code",
   "execution_count": null,
   "metadata": {
    "pycharm": {
     "is_executing": true,
     "name": "#%%\n"
    }
   },
   "outputs": [],
   "source": [
    "(sp['Close'].iloc[-2000:] - sp['Open'].iloc[-2000:]).sum()"
   ]
  },
  {
   "cell_type": "code",
   "execution_count": null,
   "metadata": {
    "pycharm": {
     "is_executing": true,
     "name": "#%%\n"
    }
   },
   "outputs": [],
   "source": [
    "get_stats((sp['Close'].iloc[-2000:]-sp['Open'].iloc[-2000:])/sp['Open'].iloc[-2000:]*100)"
   ]
  },
  {
   "cell_type": "code",
   "execution_count": null,
   "metadata": {
    "pycharm": {
     "is_executing": true,
     "name": "#%%\n"
    }
   },
   "outputs": [],
   "source": [
    "get_stats(tf2['PnL'])"
   ]
  },
  {
   "cell_type": "code",
   "execution_count": null,
   "metadata": {
    "pycharm": {
     "is_executing": true,
     "name": "#%%\n"
    }
   },
   "outputs": [],
   "source": [
    "def\tget_signal(r):\n",
    "    if\tr['Predicted Next Close'] > r['Next Day Open']\t+\t1:\n",
    "        return\t1\n",
    "    else:\n",
    "        return\t0\n",
    "def\tget_ret(r):\n",
    "    if r['Signal']\t==\t1:\n",
    "        return((r['Next\tDay\tClose']\t-r['Next Day Open'])/r['Next Day Open'])*100\n",
    "    else:\n",
    "        return\t0\t\n",
    "    \n",
    "    \n",
    "tf2\t=tf2.assign(Signal=tf2.apply(get_signal,axis=1))\n",
    "tf2=tf2.assign(PnL=tf2.apply(get_ret,axis=1))\t\n",
    "(tf2[tf2['Signal']==1]['Next DayClose']\t-tf2[tf2['Signal']==1]['Next Day Open']).sum()"
   ]
  },
  {
   "cell_type": "code",
   "execution_count": null,
   "metadata": {
    "pycharm": {
     "is_executing": true,
     "name": "#%%\n"
    }
   },
   "outputs": [],
   "source": [
    "get_stats(tf2['PnL'])"
   ]
  },
  {
   "cell_type": "code",
   "execution_count": null,
   "metadata": {
    "pycharm": {
     "is_executing": true,
     "name": "#%%\n"
    }
   },
   "outputs": [],
   "source": [
    "\n"
   ]
  }
 ],
 "metadata": {
  "kernelspec": {
   "display_name": "Python 3",
   "language": "python",
   "name": "python3"
  },
  "language_info": {
   "codemirror_mode": {
    "name": "ipython",
    "version": 2
   },
   "file_extension": ".py",
   "mimetype": "text/x-python",
   "name": "python",
   "nbconvert_exporter": "python",
   "pygments_lexer": "ipython2",
   "version": "2.7.6"
  },
  "pycharm": {
   "stem_cell": {
    "cell_type": "raw",
    "metadata": {
     "collapsed": false
    },
    "source": []
   }
  }
 },
 "nbformat": 4,
 "nbformat_minor": 1
}
